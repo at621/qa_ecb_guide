{
 "cells": [
  {
   "cell_type": "markdown",
   "id": "536676a0-ce28-4038-b193-8033a1cf2de6",
   "metadata": {},
   "source": [
    "## Search \"ECB guide to internal models\"\n",
    "\n",
    "1. **A. Get Questions and Embeddings**\n",
    "    - Load ECB Guide embeddings from a pickle file.\n",
    "    - Convert string embeddings to numpy arrays.\n",
    "    - Import questions from an Excel file.\n",
    "\n",
    "2. **B. Helper Functions**\n",
    "    - `search_docs`: Search documents and rank them based on cosine similarity of embeddings.\n",
    "    - `create_embedding`: Generate an embedding for a search phrase.\n",
    "    - `test_answers`: Test the questions against the embeddings to get relevant answers.\n",
    "    - `display_rows`: Display specified rows from a DataFrame in a given format.\n",
    "\n",
    "3. **C. Conduct Testing**\n",
    "    - Run the `test_answers` function and display the top results.\n",
    "\n",
    "4. **D. Perform Manual Testing**\n",
    "    - Conduct manual testing for specific queries and display the top 3 results."
   ]
  },
  {
   "cell_type": "code",
   "execution_count": null,
   "id": "14cc9aa7-f831-4c2e-9cdc-f337f34d729d",
   "metadata": {},
   "outputs": [],
   "source": [
    "import pandas as pd\n",
    "from tqdm import tqdm\n",
    "import openai\n",
    "import time\n",
    "import tiktoken\n",
    "from openai.embeddings_utils import get_embedding, cosine_similarity\n",
    "import ast\n",
    "import numpy as np\n",
    "import matplotlib.pyplot as plt\n",
    "\n",
    "\n",
    "# Settings\n",
    "tqdm.pandas()\n",
    "pd.set_option('display.max_colwidth', None)\n",
    "pd.set_option('display.max_rows', None)\n",
    "pd.set_option('display.max_columns', None)"
   ]
  },
  {
   "cell_type": "markdown",
   "id": "1015ab4a-0555-4566-81a3-399396ca36b1",
   "metadata": {},
   "source": [
    "#### A. Get questions and embeddings"
   ]
  },
  {
   "cell_type": "code",
   "execution_count": null,
   "id": "6bf653a9-c731-4d0f-a7c8-3d7beb847038",
   "metadata": {},
   "outputs": [],
   "source": [
    "# Get the ECB Guide with embeddings and testing questions\n",
    "embeddings = pd.read_pickle(\"ecb_guide_embeddings.pkl\")\n",
    "embeddings['embedding'] = embeddings['embedding'].apply(ast.literal_eval).apply(np.array)\n",
    "\n",
    "questions = pd.read_excel(\"questions_ecb.xlsx\")"
   ]
  },
  {
   "cell_type": "markdown",
   "id": "f42efdc3-367f-400f-8d41-c382f944fe5a",
   "metadata": {},
   "source": [
    "#### B. Helper functions"
   ]
  },
  {
   "cell_type": "code",
   "execution_count": null,
   "id": "5f26b26a-3205-43e4-b321-0725655626bb",
   "metadata": {},
   "outputs": [],
   "source": [
    "def search_docs(df, search_phrase, top=10):\n",
    "    search_embedding = create_embedding(search_phrase)\n",
    "    df[\"similarity\"] = df[\"embedding\"].apply(\n",
    "        lambda x: cosine_similarity(x, search_embedding))\n",
    "    best_answers = df.sort_values(by='similarity', ascending=False).reset_index().head(top)\n",
    "    first_value = best_answers['paragraph_number'].iloc[0]\n",
    "\n",
    "    return best_answers, df, first_value\n",
    "\n",
    "def create_embedding(search_phrase):\n",
    "    return get_embedding(\n",
    "        search_phrase,\n",
    "        engine=\"text-embedding-ada-002\"\n",
    "    )\n",
    "\n",
    "def test_answers(embeddings, questions):\n",
    "    # Create an empty list to store the results\n",
    "    results_list = []\n",
    "    \n",
    "    for index, row in questions.iterrows():\n",
    "        query = row['Question']\n",
    "        question_number = row['Number']\n",
    "        best_answers, df, first_value = search_docs(embeddings, query, top=100)\n",
    "\n",
    "        # Create a Boolean mask and find the index of the first occurrence\n",
    "        mask = best_answers['paragraph_number'] == first_value\n",
    "        first_index = mask.idxmax() if mask.any() else 10000\n",
    "\n",
    "       # Append a new dictionary to the results list\n",
    "        results_list.append({\n",
    "            'Query': query,\n",
    "            'question_number': question_number,\n",
    "            'first_value': first_value,\n",
    "            'first_index': int(first_index)\n",
    "        })\n",
    "\n",
    "    # Convert the list of dictionaries to a DataFrame\n",
    "    results_df = pd.DataFrame(results_list)\n",
    "\n",
    "    # Replace NaN values with 1000 in column 'A'\n",
    "    results_df['first_index'].fillna(100000, inplace=True)\n",
    "    results_df['first_index'] = results_df['first_index'].astype(int)\n",
    "    \n",
    "    return results_df\n",
    "\n",
    "def display_rows(df, row_indices):\n",
    "    \"\"\"\n",
    "    Display multiple rows in the DataFrame in the specified format.\n",
    "    \n",
    "    Parameters:\n",
    "    - df (pd.DataFrame): The DataFrame containing the data\n",
    "    - row_indices (list): A list of indices of the rows to display\n",
    "    \n",
    "    \"\"\"\n",
    "    for i, row_index in enumerate(row_indices):\n",
    "        # Get the values of the specified row from the DataFrame\n",
    "        row_data = df.iloc[row_index]\n",
    "        \n",
    "        # Extract the 'source' and 'text' values from the row\n",
    "        source_value = row_data['full_label']\n",
    "        text_value = row_data['checked_sentence']\n",
    "        \n",
    "        # Display the data as specified\n",
    "        print(f\"Source: {source_value}\\n\")\n",
    "        print(f\"Source: {text_value}\\n\")\n",
    "        \n",
    "        # Print separator if not the last row\n",
    "        if i < len(row_indices) - 1:\n",
    "            print(\"-\" * 10)"
   ]
  },
  {
   "cell_type": "markdown",
   "id": "e91d0b84-ec48-4ac3-8d6d-56650023c7a9",
   "metadata": {},
   "source": [
    "#### C. Conduct testing"
   ]
  },
  {
   "cell_type": "code",
   "execution_count": null,
   "id": "f5932032-7b3a-42af-85b1-5fa5fc78d6d3",
   "metadata": {},
   "outputs": [],
   "source": [
    "# Get the file\n",
    "test_results = test_answers(embeddings, questions)\n",
    "\n",
    "test_results.head()"
   ]
  },
  {
   "cell_type": "code",
   "execution_count": null,
   "id": "23b2ec73-532c-441f-9a8f-b68ff2ae0114",
   "metadata": {},
   "outputs": [],
   "source": [
    "# Create a summary graph\n",
    "pass"
   ]
  },
  {
   "cell_type": "markdown",
   "id": "a57be324-bcb4-45f6-a50f-3bf50f7cc4f0",
   "metadata": {},
   "source": [
    "#### D. Peform manual testing"
   ]
  },
  {
   "cell_type": "code",
   "execution_count": null,
   "id": "00f9b00c-014d-4474-99aa-662029dc8933",
   "metadata": {},
   "outputs": [],
   "source": [
    "# Test 1\n",
    "query = \"What does the term 'initial validation' refer to?\"\n",
    "best_answers, df, first_value = search_docs(df, query, top=3)\n",
    "\n",
    "print(best_answers)"
   ]
  },
  {
   "cell_type": "code",
   "execution_count": null,
   "id": "a97b4821-ba0d-4dcf-a757-0f7181e048b5",
   "metadata": {},
   "outputs": [],
   "source": [
    "# Test 2\n",
    "query = 'what are reference dates for EAD/CCF modelling?'\n",
    "best_answers, df, first_value = search_docs(df, query, top=3)\n",
    "\n",
    "print(best_answers)"
   ]
  },
  {
   "cell_type": "code",
   "execution_count": null,
   "id": "0a13c48f-b146-4ddb-b6f9-53a12f6bb180",
   "metadata": {},
   "outputs": [],
   "source": []
  }
 ],
 "metadata": {
  "kernelspec": {
   "display_name": "Python 3 (ipykernel)",
   "language": "python",
   "name": "python3"
  },
  "language_info": {
   "codemirror_mode": {
    "name": "ipython",
    "version": 3
   },
   "file_extension": ".py",
   "mimetype": "text/x-python",
   "name": "python",
   "nbconvert_exporter": "python",
   "pygments_lexer": "ipython3",
   "version": "3.9.13"
  }
 },
 "nbformat": 4,
 "nbformat_minor": 5
}
